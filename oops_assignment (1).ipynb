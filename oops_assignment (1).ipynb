{
  "nbformat": 4,
  "nbformat_minor": 0,
  "metadata": {
    "colab": {
      "provenance": []
    },
    "kernelspec": {
      "name": "python3",
      "display_name": "Python 3"
    },
    "language_info": {
      "name": "python"
    }
  },
  "cells": [
    {
      "cell_type": "markdown",
      "source": [
        "**1. What are the five key concepts of Object-Oriented Programming (OOP)?**\n",
        "\n",
        "**Answer:**\n",
        "\n",
        "In Python object-oriented Programming (OOPs) is a programming paradigm that uses objects and classes in programming. It aims to implement real-world entities like inheritance, polymorphisms, encapsulation, etc. in the programming. The main concept of object-oriented Programming (OOPs) or oops concepts in Python is to bind the data and the functions that work together as a single unit so that no other part of the code can access this data. For more in-depth knowledge in Python OOPs concepts, try GeeksforGeeks Python course, it will gives you insights of Python programming.\n",
        "\n",
        "The five key concepts of Object-Oriented Programming (OOP) in Python are:\n",
        "\n",
        "**1. Inheritance**\n",
        "A class can inherit features and methods from another class. This promotes code reusability and logical structure.\n",
        "\n",
        "* It represents real-world relationships well.\n",
        "* It provides the reusability of a code. We don’t have to write the same code again and again. Also, it allows us to add more features to a class without modifying it.\n",
        "* It is transitive in nature, which means that if class B inherits from another class A, then all the subclasses of B would automatically inherit from class A.\n",
        "\n",
        "Types of Inheritance\n",
        "* Single Inheritance: Single-level inheritance enables a derived class to inherit characteristics from a single-parent class.\n",
        "* Multilevel Inheritance: Multi-level inheritance enables a derived class to inherit properties from an immediate parent class which in turn inherits properties from his parent class.\n",
        "* Hierarchical Inheritance: Hierarchical-level inheritance enables more than one derived class to inherit properties from a parent class.\n",
        "* Multiple Inheritance: Multiple-level inheritance enables one derived class to inherit properties from more than one base class.\n",
        "\n",
        "**2. Encapsulation**\n",
        "Restricts access to methods and variables to protect data from direct change. Encapsulation is one of the fundamental concepts in object-oriented programming (OOP). It describes the idea of wrapping data and the methods that work on data within one unit. This puts restrictions on accessing variables and methods directly and can prevent the accidental modification of data. To prevent accidental change, an object’s variable can only be changed by an object’s method. Those types of variables are known as private variables.\n",
        "\n",
        "A class is an example of encapsulation as it encapsulates all the data that is member functions, variables, etc.\n",
        "\n",
        "**3. Abstraction**\n",
        "Hides all but the relevant data about an object to reduce complexity and increase efficiency. It hides unnecessary code details from the user. Also,  when we do not want to give out sensitive parts of our code implementation and this is where data abstraction came.\n",
        "\n",
        "Data Abstraction in Python can be achieved by creating abstract classes.\n",
        "\n",
        "**4. Classes and objects**\n",
        "A class is a blueprint used to develop objects.A class is a collection of objects. A class contains the blueprints or the prototype from which the objects are being created. It is a logical entity that contains some attributes and methods.\n",
        "* Classes are created by keyword class.\n",
        "* Attributes are the variables that belong to a class.\n",
        "* Attributes are always public and can be accessed using the dot (.) operator.Syntax:\n",
        "\n",
        "Myclass.Myattribute\n",
        "\n",
        "An object is an instance of a class and has its own set of properties. In object oriented programming Python, The object is an entity that has a state and behavior associated with it. It may be any real-world object like a mouse, keyboard, chair, table, pen, etc. Integers, strings, floating-point numbers, even arrays, and dictionaries, are all objects. More specifically, any single integer or any single string is an object.\n",
        "An object consists of:\n",
        "\n",
        "* State: It is represented by the attributes of an object. It also reflects the properties of an object. State or Attributes can be considered as the breed, age, or color of the dog.\n",
        "* Behavior: It is represented by the methods of an object. It also reflects the response of an object to other objects. The behavior can be considered as to whether the dog is eating or sleeping.\n",
        "* Identity: It gives a unique name to an object and enables one object to interact with other objects. The identity can be considered as the name of the dog.\n",
        "\n",
        "\n",
        "**5. Polymorphism**\n",
        "It is a central feature of OOP. Polymorphism simply means having many forms. For example, we need to determine if the given species of birds fly or not, using polymorphism we can do this using a single function."
      ],
      "metadata": {
        "id": "kx8z0HOR7fDI"
      }
    },
    {
      "cell_type": "markdown",
      "source": [
        "**2. Write a Python class for a 'Car' with attributes for 'make', 'model', and 'year'. Include a method to display\n",
        "the car's information.**"
      ],
      "metadata": {
        "id": "8tu_90lR8DLb"
      }
    },
    {
      "cell_type": "code",
      "execution_count": null,
      "metadata": {
        "colab": {
          "base_uri": "https://localhost:8080/"
        },
        "id": "kUSBcZiS6PwB",
        "outputId": "82c0e273-2f02-4252-d377-0a79e2ddebea"
      },
      "outputs": [
        {
          "output_type": "stream",
          "name": "stdout",
          "text": [
            "Make: Toyota\n",
            "Model: Camry\n",
            "Year: 2022\n"
          ]
        }
      ],
      "source": [
        "class Car:\n",
        "    def __init__(self, make, model, year):\n",
        "        \"\"\"\n",
        "        Initializes a Car object.\n",
        "\n",
        "        Args:\n",
        "            make (str): Car manufacturer.\n",
        "            model (str): Car model.\n",
        "            year (int): Car production year.\n",
        "        \"\"\"\n",
        "        self.make = make\n",
        "        self.model = model\n",
        "        self.year = year\n",
        "\n",
        "    def display_info(self):\n",
        "        \"\"\"\n",
        "        Displays the car's information.\n",
        "        \"\"\"\n",
        "        print(f\"Make: {self.make}\")\n",
        "        print(f\"Model: {self.model}\")\n",
        "        print(f\"Year: {self.year}\")\n",
        "\n",
        "# Example usage:\n",
        "my_car = Car(\"Toyota\", \"Camry\", 2022)\n",
        "my_car.display_info()"
      ]
    },
    {
      "cell_type": "markdown",
      "source": [
        "**3. Explain the difference between instance methods and class methods. Provide an example of each.**\n",
        "\n",
        "**Answer:**\n",
        "\n",
        "**Class Method in Python**\n",
        "\n",
        "Class methods are associated with the class rather than instances. They are defined using the @classmethod decorator and take the class itself as the first parameter, usually named cls. Class methods are useful for tasks that involve the class rather than the instance, such as creating class-specific behaviors or modifying class-level attributes.\n",
        "\n",
        "**Instance Method in Python**\n",
        "\n",
        "Instance methods are the most common type of methods in Python classes. They are associated with instances of a class and operate on the instance’s data. When defining an instance method, the method’s first parameter is typically named self, which refers to the instance calling the method. This allows the method to access and manipulate the instance’s attributes."
      ],
      "metadata": {
        "id": "1H5XtcPw78pu"
      }
    },
    {
      "cell_type": "code",
      "source": [
        "class MyClass:\n",
        "    class_variable = 0\n",
        "\n",
        "    def __init__(self, value):\n",
        "        self.instance_variable = value\n",
        "\n",
        "    @classmethod\n",
        "    def class_method(cls, x):\n",
        "        cls.class_variable += x\n",
        "        return cls.class_variable\n",
        "\n",
        "# Creating instances of the class\n",
        "obj1 = MyClass(5)\n",
        "obj2 = MyClass(10)\n",
        "\n",
        "# Calling the class method\n",
        "print(MyClass.class_method(3))  # Output: 3\n",
        "print(MyClass.class_method(7))  # Output: 10\n",
        "\n",
        "\n",
        "\n",
        "class Person:\n",
        "    def __init__(self, name, age):\n",
        "        self.name = name\n",
        "        self.age = age\n",
        "\n",
        "    def introduce(self):\n",
        "        return f\"Hi, I'm {self.name} and I'm {self.age} years old.\"\n",
        "\n",
        "\n",
        "# Creating an instance of the class\n",
        "person1 = Person(\"Kishan\", 20)\n",
        "\n",
        "# Calling the instance method\n",
        "print(person1.introduce())"
      ],
      "metadata": {
        "colab": {
          "base_uri": "https://localhost:8080/"
        },
        "id": "LeFDQSMnEwx7",
        "outputId": "7910a0e4-b8e9-46f1-a744-95ab18d044bd"
      },
      "execution_count": null,
      "outputs": [
        {
          "output_type": "stream",
          "name": "stdout",
          "text": [
            "3\n",
            "10\n",
            "Hi, I'm Kishan and I'm 20 years old.\n"
          ]
        }
      ]
    },
    {
      "cell_type": "markdown",
      "source": [
        "**4. How does Python implement method overloading? Give an example.**\n",
        "\n",
        "**Answer:**\n",
        "\n",
        "Two or more methods have the same name but different numbers of parameters or different types of parameters, or both. These methods are called overloaded methods and this is called method overloading.\n",
        "\n",
        "Like other languages (for example, method overloading in C++) do, python does not support method overloading by default. But there are different ways to achieve method overloading in Python.\n",
        "\n",
        "The problem with method overloading in Python is that we may overload the methods but can only use the latest defined method.\n",
        "\n",
        "**Method 1 (Not The Most Efficient Method):**\n",
        "\n",
        "We can use the arguments to make the same function work differently i.e. as per the arguments.\n",
        "\n",
        "**Method 2 (Not the efficient one):**\n",
        "\n",
        "We can achieve method overloading in python by user defined function using “None” keyword as default parameter.\n",
        "\n",
        "Code explanation:\n",
        "\n",
        "The first parameter of  “add” method is set to None. This will give us the option to call it with or without a parameter.\n",
        "\n",
        "When we pass arguments to the add method (Working):\n",
        "\n",
        "The method checks if both the parameters are available or not.\n",
        "As we have already given default parameter values as “None”, if any of the value is not passed it will remain “None”.\n",
        "Using If-Else statements, we can achieve method overloading by checking each parameter as single statement.\n",
        "\n",
        "**Method 3 (Efficient One):**\n",
        "\n",
        "By Using Multiple Dispatch Decorator\n",
        "\n",
        "Multiple Dispatch Decorator Can be installed by:\n"
      ],
      "metadata": {
        "id": "Z0WhtA8IG1ha"
      }
    },
    {
      "cell_type": "code",
      "source": [
        "# First product method.\n",
        "# Takes two argument and print their\n",
        "# product\n",
        "\n",
        "\n",
        "def product(a, b):\n",
        "    p = a * b\n",
        "    print(p)\n",
        "\n",
        "# Second product method\n",
        "# Takes three argument and print their\n",
        "# product\n",
        "\n",
        "\n",
        "def product(a, b, c):\n",
        "    p = a * b*c\n",
        "    print(p)\n",
        "\n",
        "# Uncommenting the below line shows an error\n",
        "# product(4, 5)\n",
        "# This line will call the second product method\n",
        "product(4, 5, 5)\n",
        "\n",
        "\n",
        "\n",
        "# Function to take multiple arguments\n",
        "def add(datatype, *args):\n",
        "\n",
        "    # if datatype is int\n",
        "    # initialize answer as 0\n",
        "    if datatype == 'int':\n",
        "        answer = 0\n",
        "\n",
        "    # if datatype is str\n",
        "    # initialize answer as ''\n",
        "    if datatype == 'str':\n",
        "        answer = ''\n",
        "\n",
        "    # Traverse through the arguments\n",
        "    for x in args:\n",
        "\n",
        "        # This will do addition if the\n",
        "        # arguments are int. Or concatenation\n",
        "        # if the arguments are str\n",
        "        answer = answer + x\n",
        "\n",
        "    print(answer)\n",
        "# Integer\n",
        "add('int', 5, 6)\n",
        "# String\n",
        "add('str', 'Hi ', 'Geeks')\n",
        "\n",
        "\n",
        "\n",
        "# code\n",
        "def add(a=None, b=None):\n",
        "    # Checks if both parameters are available\n",
        "    # if statement will be executed if only one parameter is available\n",
        "    if a != None and b == None:\n",
        "        print(a)\n",
        "    # else will be executed if both are available and returns addition of two\n",
        "    else:\n",
        "        print(a+b)\n",
        "# two arguments are passed, returns addition of two\n",
        "add(2, 3)\n",
        "# only one argument is passed, returns a\n",
        "add(2)"
      ],
      "metadata": {
        "colab": {
          "base_uri": "https://localhost:8080/"
        },
        "id": "8plguRxXHq8Y",
        "outputId": "7ba8ad99-f101-4071-f8f3-7e9b048d3fc6"
      },
      "execution_count": null,
      "outputs": [
        {
          "output_type": "stream",
          "name": "stdout",
          "text": [
            "100\n",
            "11\n",
            "Hi Geeks\n",
            "5\n",
            "2\n"
          ]
        }
      ]
    },
    {
      "cell_type": "markdown",
      "source": [
        "**5. What are the three types of access modifiers in Python? How are they denoted?**\n",
        "\n",
        "**Answer:**\n",
        "\n",
        "A Class in Python has three types of access modifiers:\n",
        "\n",
        "* Public Access Modifier: Theoretically, public methods and fields can be accessed directly by any class.\n",
        "* Protected Access Modifier: Theoretically, protected methods and fields can be accessed within the same class it is declared and its subclass.\n",
        "* Private Access Modifier: Theoretically, private methods and fields can be only accessed within the same class it is declared.\n",
        "\n",
        "# Public Access Modifier:\n",
        "The members of a class that are declared public are easily accessible from any part of the program. All data members and member functions of a class are public by default.\n",
        "\n",
        "# Protected Access Modifier:\n",
        "The members of a class that are declared protected are only accessible within the class where it is declared and its subclass. To implement protected field or method, the developer follows a specific convention mostly by adding prefix to the variable or function name. Popularly, a single underscore “_” is used to describe a protected data member or method of the class. Note that the python interpreter does not treat it as protected data like other languages, it is only denoted for the programmers since they would be trying to access it using plain name instead of calling it using the respective prefix.\n",
        "\n"
      ],
      "metadata": {
        "id": "HGSMvA1GIa44"
      }
    },
    {
      "cell_type": "code",
      "source": [
        "# program to illustrate public access modifier in a class\n",
        "\n",
        "\n",
        "class Geek:\n",
        "\n",
        "    # constructor\n",
        "    def __init__(self, name, age):\n",
        "\n",
        "        # public data members\n",
        "        self.geekName = name\n",
        "        self.geekAge = age\n",
        "\n",
        "    # public member function\n",
        "    def displayAge(self):\n",
        "\n",
        "        # accessing public data member\n",
        "        print(\"Age: \", self.geekAge)\n",
        "\n",
        "\n",
        "# creating object of the class\n",
        "obj = Geek(\"R2J\", 20)\n",
        "\n",
        "# finding all the fields and methods which are present inside obj\n",
        "print(\"List of fields and methods inside obj:\", dir(obj))\n",
        "\n",
        "# accessing public data member\n",
        "print(\"Name:\", obj.geekName)\n",
        "\n",
        "# calling public member function of the class\n",
        "obj.displayAge()\n",
        "\n",
        "\n",
        "\n",
        "\n",
        "# program to illustrate protected access modifier in a class\n",
        "\n",
        "# super class\n",
        "class Student:\n",
        "\n",
        "    # protected data members\n",
        "    _name = None\n",
        "    _roll = None\n",
        "    _branch = None\n",
        "\n",
        "    # constructor\n",
        "    def __init__(self, name, roll, branch):\n",
        "        self._name = name\n",
        "        self._roll = roll\n",
        "        self._branch = branch\n",
        "\n",
        "    # protected member function\n",
        "    def _displayRollAndBranch(self):\n",
        "\n",
        "        # accessing protected data members\n",
        "        print(\"Roll:\", self._roll)\n",
        "        print(\"Branch:\", self._branch)\n",
        "\n",
        "# derived class\n",
        "class Geek(Student):\n",
        "\n",
        "    # constructor\n",
        "    def __init__(self, name, roll, branch):\n",
        "        Student.__init__(self, name, roll, branch)\n",
        "\n",
        "    # public member function\n",
        "    def displayDetails(self):\n",
        "\n",
        "              # accessing protected data members of super class\n",
        "        print(\"Name:\", self._name)\n",
        "\n",
        "        # accessing protected member functions of super class\n",
        "        self._displayRollAndBranch()\n",
        "\n",
        "\n",
        "stu = Student(\"Alpha\", 1234567, \"Computer Science\")\n",
        "print(dir(stu))\n",
        "\n",
        "# protected members and methods can be still accessed\n",
        "print(stu._name)\n",
        "stu._displayRollAndBranch()\n",
        "\n",
        "# Throws error\n",
        "# print(stu.name)\n",
        "# stu.displayRollAndBranch()\n",
        "\n",
        "# creating objects of the derived class\n",
        "obj = Geek(\"R2J\", 1706256, \"Information Technology\")\n",
        "print(\"\")\n",
        "print(dir(obj))\n",
        "\n",
        "# calling public member functions of the class\n",
        "obj.displayDetails()"
      ],
      "metadata": {
        "colab": {
          "base_uri": "https://localhost:8080/"
        },
        "id": "M883PuPscym4",
        "outputId": "5a1962fb-5bf2-4399-d7dc-b296a2ade476"
      },
      "execution_count": null,
      "outputs": [
        {
          "output_type": "stream",
          "name": "stdout",
          "text": [
            "List of fields and methods inside obj: ['__class__', '__delattr__', '__dict__', '__dir__', '__doc__', '__eq__', '__format__', '__ge__', '__getattribute__', '__gt__', '__hash__', '__init__', '__init_subclass__', '__le__', '__lt__', '__module__', '__ne__', '__new__', '__reduce__', '__reduce_ex__', '__repr__', '__setattr__', '__sizeof__', '__str__', '__subclasshook__', '__weakref__', 'displayAge', 'geekAge', 'geekName']\n",
            "Name: R2J\n",
            "Age:  20\n",
            "['__class__', '__delattr__', '__dict__', '__dir__', '__doc__', '__eq__', '__format__', '__ge__', '__getattribute__', '__gt__', '__hash__', '__init__', '__init_subclass__', '__le__', '__lt__', '__module__', '__ne__', '__new__', '__reduce__', '__reduce_ex__', '__repr__', '__setattr__', '__sizeof__', '__str__', '__subclasshook__', '__weakref__', '_branch', '_displayRollAndBranch', '_name', '_roll']\n",
            "Alpha\n",
            "Roll: 1234567\n",
            "Branch: Computer Science\n",
            "\n",
            "['__class__', '__delattr__', '__dict__', '__dir__', '__doc__', '__eq__', '__format__', '__ge__', '__getattribute__', '__gt__', '__hash__', '__init__', '__init_subclass__', '__le__', '__lt__', '__module__', '__ne__', '__new__', '__reduce__', '__reduce_ex__', '__repr__', '__setattr__', '__sizeof__', '__str__', '__subclasshook__', '__weakref__', '_branch', '_displayRollAndBranch', '_name', '_roll', 'displayDetails']\n",
            "Name: R2J\n",
            "Roll: 1706256\n",
            "Branch: Information Technology\n"
          ]
        }
      ]
    },
    {
      "cell_type": "markdown",
      "source": [
        "**6. Describe the five types of inheritance in Python. Provide a simple example of multiple inheritance**\n",
        "\n",
        "**Answer:**\n",
        "\n",
        "Inheritance is defined as the mechanism of inheriting the properties of the base class to the child class.\n",
        "\n",
        "**Types of Inheritance in Python**\n",
        "\n",
        "**1. Single Inheritance:**\n",
        "\n",
        " Single inheritance enables a derived class to inherit properties from a single parent class, thus enabling code reusability and the addition of new features to existing code.\n",
        "\n",
        "\n",
        "**2. Multiple Inheritance:**\n",
        "\n",
        "When a class can be derived from more than one base class this type of inheritance is called multiple inheritances. In multiple inheritances, all the features of the base classes are inherited into the derived class.\n",
        "\n",
        "\n",
        "**3. Multilevel Inheritance :**\n",
        "\n",
        "In multilevel inheritance, features of the base class and the derived class are further inherited into the new derived class. This is similar to a relationship representing a child and a grandfather.\n",
        "\n",
        "**4. Hierarchical Inheritance:**\n",
        "\n",
        "When more than one derived class are created from a single base this type of inheritance is called hierarchical inheritance. In this program, we have a parent (base) class and two child (derived) classes.\n",
        "\n",
        "**5. Hybrid Inheritance:**\n",
        "Inheritance consisting of multiple types of inheritance is called hybrid inheritance."
      ],
      "metadata": {
        "id": "MzeHq4Fa3xwX"
      }
    },
    {
      "cell_type": "code",
      "source": [
        "# multiple inheritance\n",
        "\n",
        "# Base class1\n",
        "class Mother:\n",
        "    mothername = \"\"\n",
        "\n",
        "    def mother(self):\n",
        "        print(self.mothername)\n",
        "\n",
        "# Base class2\n",
        "\n",
        "\n",
        "class Father:\n",
        "    fathername = \"\"\n",
        "\n",
        "    def father(self):\n",
        "        print(self.fathername)\n",
        "\n",
        "# Derived class\n",
        "\n",
        "\n",
        "class Son(Mother, Father):\n",
        "    def parents(self):\n",
        "        print(\"Father :\", self.fathername)\n",
        "        print(\"Mother :\", self.mothername)\n",
        "\n",
        "\n",
        "# Driver's code\n",
        "s1 = Son()\n",
        "s1.fathername = \"RAM\"\n",
        "s1.mothername = \"SITA\"\n",
        "s1.parents()"
      ],
      "metadata": {
        "colab": {
          "base_uri": "https://localhost:8080/"
        },
        "id": "Coshzaj-56XH",
        "outputId": "835f2b93-ef5c-4534-ad53-635cf730cb19"
      },
      "execution_count": null,
      "outputs": [
        {
          "output_type": "stream",
          "name": "stdout",
          "text": [
            "Father : RAM\n",
            "Mother : SITA\n"
          ]
        }
      ]
    },
    {
      "cell_type": "markdown",
      "source": [
        "**7. What is the Method Resolution Order (MRO) in Python? How can you retrieve it programmatically?**\n",
        "\n",
        "**Answer:**\n",
        "\n",
        "Method Resolution Order(MRO) it denotes the way a programming language resolves a method or attribute. Python supports classes inheriting from other classes. The class being inherited is called the Parent or Superclass, while the class that inherits is called the Child or Subclass. In python, method resolution order defines the order in which the base classes are searched when executing a method. First, the method or attribute is searched within a class and then it follows the order we specified while inheriting. This order is also called Linearization of a class and set of rules are called MRO(Method Resolution Order). While inheriting from another class, the interpreter needs a way to resolve the methods that are being called via an instance. Thus we need the method resolution order.\n"
      ],
      "metadata": {
        "id": "g4RwNSn-61sL"
      }
    },
    {
      "cell_type": "code",
      "source": [
        "class A:\n",
        "    def method(self):\n",
        "        print(\"A\")\n",
        "\n",
        "class B(A):\n",
        "    def method(self):\n",
        "        print(\"B\")\n",
        "\n",
        "class C(A):\n",
        "    pass\n",
        "\n",
        "class D(B, C):\n",
        "    pass\n",
        "\n",
        "d = D()\n",
        "d.method()"
      ],
      "metadata": {
        "colab": {
          "base_uri": "https://localhost:8080/"
        },
        "id": "JswjtjQWFvt5",
        "outputId": "50ce8b3b-ad46-4c2b-e048-5a9c450331a4"
      },
      "execution_count": null,
      "outputs": [
        {
          "output_type": "stream",
          "name": "stdout",
          "text": [
            "B\n"
          ]
        }
      ]
    },
    {
      "cell_type": "markdown",
      "source": [
        "**8. Create an abstract base class 'Shape' with an abstract method 'area()'. Then create two subclasses\n",
        "Circle' and 'Rectangle' that implement the 'area()' method.**\n",
        "\n",
        "**Answer:**\n",
        "\n"
      ],
      "metadata": {
        "id": "WBQm_ipJGphF"
      }
    },
    {
      "cell_type": "code",
      "source": [
        "from abc import ABC, abstractmethod\n",
        "import math\n",
        "\n",
        "class Shape(ABC):\n",
        "    \"\"\"Abstract base class for shapes.\"\"\"\n",
        "\n",
        "    @abstractmethod\n",
        "    def area(self):\n",
        "        \"\"\"Calculate the area of the shape.\"\"\"\n",
        "        pass\n",
        "\n",
        "\n",
        "class Circle(Shape):\n",
        "    \"\"\"Circle shape.\"\"\"\n",
        "\n",
        "    def __init__(self, radius):\n",
        "        self.radius = radius\n",
        "\n",
        "    def area(self):\n",
        "        \"\"\"Calculate the area of the circle.\"\"\"\n",
        "        return math.pi * (self.radius ** 2)\n",
        "\n",
        "class Rectangle(Shape):\n",
        "    \"\"\"Rectangle shape.\"\"\"\n",
        "\n",
        "    def __init__(self, width, height):\n",
        "        self.width = width\n",
        "        self.height = height\n",
        "\n",
        "    def area(self):\n",
        "        \"\"\"Calculate the area of the rectangle.\"\"\"\n",
        "        return self.width * self.height\n",
        "\n",
        "circle = Circle(5)\n",
        "rectangle = Rectangle(4, 6)\n",
        "\n",
        "print(f\"Area of Circle: {circle.area():.2f}\")\n",
        "print(f\"Area of Rectangle: {rectangle.area()}\")"
      ],
      "metadata": {
        "colab": {
          "base_uri": "https://localhost:8080/"
        },
        "id": "FvBwh-EmLKWa",
        "outputId": "c8703987-03db-4e7a-9a22-04acbfb6965d"
      },
      "execution_count": null,
      "outputs": [
        {
          "output_type": "stream",
          "name": "stdout",
          "text": [
            "Area of Circle: 78.54\n",
            "Area of Rectangle: 24\n"
          ]
        }
      ]
    },
    {
      "cell_type": "markdown",
      "source": [
        "**9. Demonstrate polymorphism by creating a function that can work with different shape objects to calculate\n",
        "and print their areas.**\n",
        "\n",
        "**Answer:**\n",
        "\n",
        "Polymorphism is a concept of Object-Oriented Programming in Python. It enables using a single interface with the input of different data types, different classes, or maybe for a different number of inputs.\n",
        "\n",
        "**Polymorphism Benefits:**\n",
        "\n",
        "- Uniform method calls (shape.area())\n",
        "- Easy addition of new shapes\n",
        "- Simplified code\n",
        "- Enhanced flexibility"
      ],
      "metadata": {
        "id": "CkhMZgwwL50b"
      }
    },
    {
      "cell_type": "code",
      "source": [
        "from abc import ABC, abstractmethod\n",
        "import math\n",
        "\n",
        "## Abstract Base Class\n",
        "class Shape(ABC):\n",
        "    \"\"\"Abstract base class for shapes.\"\"\"\n",
        "\n",
        "    @abstractmethod\n",
        "    def area(self):\n",
        "        \"\"\"Calculate the area of the shape.\"\"\"\n",
        "        pass\n",
        "\n",
        "## Subclass Circle\n",
        "class Circle(Shape):\n",
        "    \"\"\"Circle shape.\"\"\"\n",
        "\n",
        "    def __init__(self, radius):\n",
        "        self.radius = radius\n",
        "\n",
        "    def area(self):\n",
        "        \"\"\"Calculate the area of the circle.\"\"\"\n",
        "        return math.pi * (self.radius ** 2)\n",
        "\n",
        "## Subclass Rectangle\n",
        "class Rectangle(Shape):\n",
        "    \"\"\"Rectangle shape.\"\"\"\n",
        "\n",
        "    def __init__(self, width, height):\n",
        "        self.width = width\n",
        "        self.height = height\n",
        "\n",
        "    def area(self):\n",
        "        \"\"\"Calculate the area of the rectangle.\"\"\"\n",
        "        return self.width * self.height\n",
        "\n",
        "## Subclass Triangle\n",
        "class Triangle(Shape):\n",
        "    \"\"\"Triangle shape.\"\"\"\n",
        "\n",
        "    def __init__(self, base, height):\n",
        "        self.base = base\n",
        "        self.height = height\n",
        "\n",
        "    def area(self):\n",
        "        \"\"\"Calculate the area of the triangle.\"\"\"\n",
        "        return 0.5 * self.base * self.height\n",
        "\n",
        "## Subclass Square\n",
        "class Square(Rectangle):\n",
        "    \"\"\"Square shape.\"\"\"\n",
        "\n",
        "    def __init__(self, side):\n",
        "        super().__init__(side, side)\n",
        "\n",
        "## Polymorphic Area Calculation\n",
        "def calculate_area(shapes):\n",
        "    for shape in shapes:\n",
        "        print(f\"Area of {type(shape).__name__}: {shape.area():.2f}\")\n",
        "\n",
        "# Example usage\n",
        "circle = Circle(5)\n",
        "rectangle = Rectangle(4, 6)\n",
        "triangle = Triangle(3, 7)\n",
        "square = Square(4)\n",
        "\n",
        "shapes = [circle, rectangle, triangle, square]\n",
        "calculate_area(shapes)"
      ],
      "metadata": {
        "colab": {
          "base_uri": "https://localhost:8080/"
        },
        "id": "uZd0nA1GOHcE",
        "outputId": "4204f28e-5272-4f8b-b277-6b2df92beee6"
      },
      "execution_count": null,
      "outputs": [
        {
          "output_type": "stream",
          "name": "stdout",
          "text": [
            "Area of Circle: 78.54\n",
            "Area of Rectangle: 24.00\n",
            "Area of Triangle: 10.50\n",
            "Area of Square: 16.00\n"
          ]
        }
      ]
    },
    {
      "cell_type": "markdown",
      "source": [
        "**10. Implement encapsulation in a 'BankAccount' class with private attributes for 'balance' and\n",
        "'account_number'. Include methods for deposit, withdrawal, and balance inquiry.**\n",
        "\n",
        "**Answer:**\n",
        "\n"
      ],
      "metadata": {
        "id": "bQMdVjMXOnGY"
      }
    },
    {
      "cell_type": "code",
      "source": [
        "class Bank_Account:\n",
        "    def __init__(self):\n",
        "        self.balance=0\n",
        "        print(\"Hello!!! Welcome to the Deposit & Withdrawal Machine\")\n",
        "\n",
        "    def deposit(self):\n",
        "        amount=float(input(\"Enter amount to be Deposited: \"))\n",
        "        self.balance += amount\n",
        "        print(\"\\n Amount Deposited:\",amount)\n",
        "\n",
        "    def withdraw(self):\n",
        "        amount = float(input(\"Enter amount to be Withdrawn: \"))\n",
        "        if self.balance>=amount:\n",
        "            self.balance-=amount\n",
        "            print(\"\\n You Withdrew:\", amount)\n",
        "        else:\n",
        "            print(\"\\n Insufficient balance  \")\n",
        "\n",
        "    def display(self):\n",
        "        print(\"\\n Net Available Balance=\",self.balance)\n",
        "\n",
        "# Driver code\n",
        "\n",
        "# creating an object of class\n",
        "s = Bank_Account()\n",
        "\n",
        "# Calling functions with that class object\n",
        "s.deposit()\n",
        "s.withdraw()\n",
        "s.display()"
      ],
      "metadata": {
        "colab": {
          "base_uri": "https://localhost:8080/"
        },
        "id": "8bcqsq25Pfom",
        "outputId": "e53b9cbf-b143-4799-aab0-479d7d85f99f"
      },
      "execution_count": null,
      "outputs": [
        {
          "output_type": "stream",
          "name": "stdout",
          "text": [
            "Hello!!! Welcome to the Deposit & Withdrawal Machine\n",
            "Enter amount to be Deposited: 25000\n",
            "\n",
            " Amount Deposited: 25000.0\n",
            "Enter amount to be Withdrawn: 12000\n",
            "\n",
            " You Withdrew: 12000.0\n",
            "\n",
            " Net Available Balance= 13000.0\n"
          ]
        }
      ]
    },
    {
      "cell_type": "markdown",
      "source": [
        "**11. Write a class that overrides the '__str__' and '__add__' magic methods. What will these methods allow\n",
        "you to do?**\n",
        "\n",
        "**Answer:**\n",
        "\n",
        "**__ add __() magic method**\n",
        "\n",
        "Python __ add __() method adds two objects and returns a new object as a resultant object in Python."
      ],
      "metadata": {
        "id": "CUPDJOw0P54t"
      }
    },
    {
      "cell_type": "code",
      "source": [
        "class Vector:\n",
        "    def __init__(self, x, y):\n",
        "        self.x = x\n",
        "        self.y = y\n",
        "\n",
        "    # Override __str__ magic method\n",
        "    def __str__(self):\n",
        "        \"\"\"Return a string representation of the vector.\"\"\"\n",
        "        return f\"Vector({self.x}, {self.y})\"\n",
        "\n",
        "    # Override __add__ magic method\n",
        "    def __add__(self, other):\n",
        "        \"\"\"Return the sum of two vectors.\"\"\"\n",
        "        if isinstance(other, Vector):\n",
        "            return Vector(self.x + other.x, self.y + other.y)\n",
        "        else:\n",
        "            raise TypeError(\"Unsupported operand type for +\")\n",
        "\n",
        "# Example usage\n",
        "v1 = Vector(2, 3)\n",
        "v2 = Vector(4, 5)\n",
        "\n",
        "print(v1)  # Output: Vector(2, 3)\n",
        "print(v2)  # Output: Vector(4, 5)\n",
        "\n",
        "v3 = v1 + v2\n",
        "print(v3)  # Output: Vector(6, 8)\n",
        "\n"
      ],
      "metadata": {
        "colab": {
          "base_uri": "https://localhost:8080/"
        },
        "id": "unXYI0gKP5h8",
        "outputId": "ec324eec-7d2f-489e-a848-26cd352f92de"
      },
      "execution_count": null,
      "outputs": [
        {
          "output_type": "stream",
          "name": "stdout",
          "text": [
            "Vector(2, 3)\n",
            "Vector(4, 5)\n",
            "Vector(6, 8)\n"
          ]
        }
      ]
    },
    {
      "cell_type": "markdown",
      "source": [
        "**12. Create a decorator that measures and prints the execution time of a function.**\n",
        "\n",
        "**Answer:**\n",
        "\n"
      ],
      "metadata": {
        "id": "AV6QLKlQUedY"
      }
    },
    {
      "cell_type": "code",
      "source": [
        "from time import time\n",
        "\n",
        "\n",
        "def timer_func(func):\n",
        "    # This function shows the execution time of\n",
        "    # the function object passed\n",
        "    def wrap_func(*args, **kwargs):\n",
        "        t1 = time()\n",
        "        result = func(*args, **kwargs)\n",
        "        t2 = time()\n",
        "        print(f'Function {func.__name__!r} executed in {(t2-t1):.4f}s')\n",
        "        return result\n",
        "    return wrap_func\n",
        "\n",
        "\n",
        "@timer_func\n",
        "def long_time(n):\n",
        "    for i in range(n):\n",
        "        for j in range(100000):\n",
        "            i*j\n",
        "\n",
        "\n",
        "long_time(5)"
      ],
      "metadata": {
        "colab": {
          "base_uri": "https://localhost:8080/"
        },
        "id": "I4ts2zb6U9Vg",
        "outputId": "bd74fb91-47e6-4286-ded7-b42a8d21d47e"
      },
      "execution_count": null,
      "outputs": [
        {
          "output_type": "stream",
          "name": "stdout",
          "text": [
            "Function 'long_time' executed in 0.0323s\n"
          ]
        }
      ]
    },
    {
      "cell_type": "markdown",
      "source": [
        "**13. Explain the concept of the Diamond Problem in multiple inheritance. How does Python resolve it?**\n",
        "\n",
        "**Answer:**"
      ],
      "metadata": {
        "id": "pK2KIpOVVJOI"
      }
    },
    {
      "cell_type": "code",
      "source": [
        "class A:\n",
        "    def method(self):\n",
        "        print(\"A\")\n",
        "\n",
        "class B(A):\n",
        "    def method(self):\n",
        "        print(\"B\")\n",
        "\n",
        "class C(A):\n",
        "    def method(self):\n",
        "        print(\"C\")\n",
        "\n",
        "class D(B, C):\n",
        "    pass\n",
        "\n",
        "d = D()\n",
        "d.method()"
      ],
      "metadata": {
        "colab": {
          "base_uri": "https://localhost:8080/"
        },
        "id": "lW5orruvVOP_",
        "outputId": "2675dfaa-3965-4074-8948-683951b66601"
      },
      "execution_count": null,
      "outputs": [
        {
          "output_type": "stream",
          "name": "stdout",
          "text": [
            "B\n"
          ]
        }
      ]
    },
    {
      "cell_type": "markdown",
      "source": [
        "**14. Write a class method that keeps track of the number of instances created from a class.**\n",
        "\n",
        "**Answer:**"
      ],
      "metadata": {
        "id": "5JAvOnwLWCTv"
      }
    },
    {
      "cell_type": "code",
      "source": [
        "\n",
        "# code\n",
        "class geeks:\n",
        "\n",
        "    # this is used to print the number\n",
        "    # of instances of a class\n",
        "    counter = 0\n",
        "\n",
        "    # constructor of geeks class\n",
        "    def __init__(self):\n",
        "\n",
        "        # increment\n",
        "        geeks.counter += 1\n",
        "\n",
        "\n",
        "# object or instance of geeks class\n",
        "g1 = geeks()\n",
        "g2 = geeks()\n",
        "g3 = geeks()\n",
        "print(geeks.counter)"
      ],
      "metadata": {
        "colab": {
          "base_uri": "https://localhost:8080/"
        },
        "id": "-0ubVfNUWHDq",
        "outputId": "130529b1-a92f-42d2-bfbb-1a82be2cf7fd"
      },
      "execution_count": null,
      "outputs": [
        {
          "output_type": "stream",
          "name": "stdout",
          "text": [
            "3\n"
          ]
        }
      ]
    },
    {
      "cell_type": "markdown",
      "source": [
        "**15. Implement a static method in a class that checks if a given year is a leap year.**"
      ],
      "metadata": {
        "id": "ZA23domuXUHu"
      }
    },
    {
      "cell_type": "code",
      "source": [
        "class DateUtils:\n",
        "    @staticmethod\n",
        "    def is_leap_year(year: int) -> bool:\n",
        "        \"\"\"\n",
        "        Checks if a year is a leap year.\n",
        "\n",
        "        Args:\n",
        "            year (int): The year to check.\n",
        "\n",
        "        Returns:\n",
        "            bool: True if leap year, False otherwise.\n",
        "        \"\"\"\n",
        "        return year % 4 == 0 and (year % 100 != 0 or year % 400 == 0)\n",
        "\n",
        "# Example usage:\n",
        "print(DateUtils.is_leap_year(2024))\n",
        "print(DateUtils.is_leap_year(2023))\n"
      ],
      "metadata": {
        "colab": {
          "base_uri": "https://localhost:8080/"
        },
        "id": "KhTr1QcnXrS1",
        "outputId": "9150b94c-37be-4a8d-bc0b-8a79ebeaab7b"
      },
      "execution_count": null,
      "outputs": [
        {
          "output_type": "stream",
          "name": "stdout",
          "text": [
            "True\n",
            "False\n"
          ]
        }
      ]
    }
  ]
}